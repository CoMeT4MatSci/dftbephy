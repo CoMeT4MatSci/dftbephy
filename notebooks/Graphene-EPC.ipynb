{
 "cells": [
  {
   "cell_type": "code",
   "execution_count": null,
   "metadata": {},
   "outputs": [],
   "source": [
    "import numpy as np\n",
    "import matplotlib.pyplot as plt\n",
    "\n",
    "import h5py\n",
    "import json\n",
    "\n",
    "def colorbar(mappable, ax=plt.gca()):\n",
    "    from mpl_toolkits.axes_grid1 import make_axes_locatable\n",
    "    last_axes = plt.gca()\n",
    "    fig = ax.figure\n",
    "    divider = make_axes_locatable(ax)\n",
    "    cax = divider.append_axes(\"right\", size=\"5%\", pad=0.05)\n",
    "    cbar = fig.colorbar(mappable, cax=cax)\n",
    "    plt.sca(last_axes)\n",
    "    return cbar"
   ]
  },
  {
   "cell_type": "code",
   "execution_count": null,
   "metadata": {},
   "outputs": [],
   "source": [
    "hbar_amu_THz = 6.35 # Å^2\n",
    "THz__eV = 4.136e-3"
   ]
  },
  {
   "cell_type": "code",
   "execution_count": null,
   "metadata": {},
   "outputs": [],
   "source": [
    "basedir='../examples/Graphene'"
   ]
  },
  {
   "cell_type": "markdown",
   "metadata": {},
   "source": [
    "# EPCs at k-point"
   ]
  },
  {
   "cell_type": "code",
   "execution_count": null,
   "metadata": {},
   "outputs": [],
   "source": [
    "with h5py.File(basedir +'/el-ph/el-ph-Nq200-K-3.hdf5', 'r') as f:\n",
    "    mesh_qpoints = f['ph']['qpoints'][()]\n",
    "    qvecs = f['ph']['qpointsCart'][()]\n",
    "    mesh_frequencies = f['ph']['omega'][()] / THz__eV\n",
    "    \n",
    "    mesh_epskq = f['el']['eps_q_0'][()]\n",
    "    \n",
    "    mesh_g2 = f['el-ph']['g2_0'][:,:,3:5,3:5] # only read CB and VB\n",
    "    Kvec = f['el-ph']['g2_0'].attrs['kvec']"
   ]
  },
  {
   "cell_type": "code",
   "execution_count": null,
   "metadata": {},
   "outputs": [],
   "source": [
    "mC = 12.010700\n",
    "qx = qvecs[:,0]\n",
    "qy = qvecs[:,1]\n",
    "q_unit = 1.\n",
    "\n",
    "fig, axs = plt.subplots(2, 2, figsize=(3*3, 3*3), sharex='col', sharey='row')\n",
    "\n",
    "ax = axs[0,0]\n",
    "lq = (hbar_amu_THz/(2*mC*mesh_frequencies[:,0]))\n",
    "im = ax.tricontourf(qx/q_unit, qy/q_unit, np.sqrt(mesh_g2[:, 0, 1, 1]/lq), levels=20)\n",
    "ax.scatter(0.0, 0.0, color='white', s=3)\n",
    "\n",
    "ax.set_aspect('equal')\n",
    "colorbar(im, ax=ax)\n",
    "ax.text(-0.063, 0.047, 'TA', fontsize=14)\n",
    "ax.set_xlim((-0.05,0.05))\n",
    "ax.set_ylim((-0.05,0.05))\n",
    "\n",
    "ax = axs[0,1]\n",
    "lq = (hbar_amu_THz/(2*mC*mesh_frequencies[:,1]))\n",
    "im = ax.tricontourf(qx/q_unit, qy/q_unit, np.sqrt(mesh_g2[:, 1, 1, 1]/lq), levels=20)\n",
    "ax.scatter(0.0, 0.0, color='white', s=3)\n",
    "\n",
    "ax.set_aspect('equal')\n",
    "cbar = colorbar(im, ax=ax)\n",
    "cbar.set_label(r'$|g^\\lambda_{CB}(\\vec{q})| / \\ell^\\lambda_{\\vec{q}}$ [ eV/Å]', fontsize=12)\n",
    "ax.text(-0.063, 0.047, 'LA', fontsize=14)\n",
    "ax.set_xlim((-0.05,0.05))\n",
    "ax.set_ylim((-0.05,0.05))\n",
    "\n",
    "ax = axs[1,0]\n",
    "lq = (hbar_amu_THz/(2*mC*mesh_frequencies[:,2]))\n",
    "im = ax.tricontourf(qx/q_unit, qy/q_unit, np.sqrt(mesh_g2[:, 2, 1, 1]/lq), levels=20)\n",
    "ax.scatter(0.0, 0.0, color='white', s=3)\n",
    "\n",
    "ax.set_aspect('equal')\n",
    "colorbar(im, ax=ax)\n",
    "ax.text(-0.063, 0.047, 'LO', fontsize=14)\n",
    "ax.set_xlim((-0.05,0.05))\n",
    "ax.set_ylim((-0.05,0.05))\n",
    "\n",
    "ax = axs[1,1]\n",
    "lq = (hbar_amu_THz/(2*mC*mesh_frequencies[:,3]))\n",
    "im = ax.tricontourf(qx/q_unit, qy/q_unit, np.sqrt(mesh_g2[:, 3, 1, 1]/lq), levels=20)\n",
    "ax.scatter(0.0, 0.0, color='white', s=3)\n",
    "\n",
    "ax.set_aspect('equal')\n",
    "cbar = colorbar(im, ax=ax)\n",
    "cbar.set_label(r'$|g^\\lambda_{CB}(\\vec{q})| / \\ell^\\lambda_{\\vec{q}}$ [ eV/Å]', fontsize=12)\n",
    "ax.text(-0.063, 0.047, 'TO', fontsize=14)\n",
    "ax.set_xlim((-0.05,0.05))\n",
    "ax.set_ylim((-0.05,0.05))\n",
    "\n",
    "plt.setp(axs[-1, :], xlabel=r'$q_x$ [$2\\pi/a$]')\n",
    "plt.setp(axs[:, 0],  ylabel=r'$q_y$ [$2\\pi/a$]')\n",
    "\n",
    "plt.tight_layout()\n",
    "plt.show()\n",
    "#plt.savefig(basedir +'/el-ph/graphene-dftb-elph-Mmatrix.pdf')"
   ]
  },
  {
   "cell_type": "markdown",
   "metadata": {},
   "source": [
    "# EPCs along band-path"
   ]
  },
  {
   "cell_type": "code",
   "execution_count": null,
   "metadata": {},
   "outputs": [],
   "source": [
    "with open(basedir +'/el-ph/ephline.json') as jfile:\n",
    "    data = json.load(jfile)\n",
    "data = json.loads(data)\n",
    "\n",
    "indices = np.array(data['highSymIndices'])\n",
    "indices = indices-1\n",
    "indices[0] = 0\n",
    "labels = data['highSymLabels']\n",
    "qpoints = np.array(data['wavevectorCoordinatesCart'])\n",
    "energies = np.array(data['energies'])\n",
    "frequencies = np.array(data['frequencies'])\n",
    "eigenvectors = np.array(data['eigenvectors_real']) + 1j*np.array(data['eigenvectors_imaginary'])\n",
    "epcs = np.array(data['epcs'])\n",
    "data['numBands']\n",
    "\n",
    "q_dist_dftb = [0.,]\n",
    "for i in range(1, qpoints.shape[0]):\n",
    "    q_dist_dftb.append(np.linalg.norm(qpoints[i,:]-qpoints[i-1,:]))"
   ]
  },
  {
   "cell_type": "code",
   "execution_count": null,
   "metadata": {},
   "outputs": [],
   "source": [
    "nb = 3 # start with VB\n",
    "\n",
    "fig, axs = plt.subplots(3, 6, figsize=(3*6, 2*3), sharex='col')\n",
    "\n",
    "for b in range(2):\n",
    "    for m in range(6):\n",
    "        ax1 = axs[b,m]\n",
    "        ax1.scatter(np.cumsum(q_dist_dftb), epcs[:,m,nb+b,nb+b], \n",
    "                         marker='o', linewidth=0, alpha=0.75, zorder=2)\n",
    "        \n",
    "        ax1.set_xticks(np.cumsum(q_dist_dftb)[indices])\n",
    "        ax1.set_xticklabels(labels)\n",
    "        ax1.set_title(r'ibnd=%i, jbnd=%i, imode=%i' % (nb+b, nb+b, m))\n",
    "        \n",
    "axs[0,0].set_ylabel(r'$g$ [eV]', fontsize=16)\n",
    "axs[1,0].set_ylabel(r'$g$ [eV]', fontsize=16)\n",
    "\n",
    "\n",
    "for m in range(6):\n",
    "    ax1 = axs[2,m]\n",
    "    ax1.scatter(np.cumsum(q_dist_dftb), frequencies[:, m], \n",
    "                     marker='o', linewidth=0, alpha=0.75, zorder=2)    \n",
    "\n",
    "    ax1.set_xticks(np.cumsum(q_dist_dftb)[indices])\n",
    "    ax1.set_xticklabels(labels)\n",
    "    ax1.set_title(r'imode=%i' % (m))\n",
    "\n",
    "axs[2,0].set_ylabel(r'$\\omega$ [eV]', fontsize=16)\n",
    "\n",
    "plt.tight_layout()\n",
    "plt.show()\n",
    "#plt.savefig(basedir +'/el-ph/ephline.pdf')"
   ]
  },
  {
   "cell_type": "code",
   "execution_count": null,
   "metadata": {},
   "outputs": [],
   "source": []
  }
 ],
 "metadata": {
  "kernelspec": {
   "display_name": "Python 3",
   "language": "python",
   "name": "python3"
  },
  "language_info": {
   "codemirror_mode": {
    "name": "ipython",
    "version": 3
   },
   "file_extension": ".py",
   "mimetype": "text/x-python",
   "name": "python",
   "nbconvert_exporter": "python",
   "pygments_lexer": "ipython3",
   "version": "3.7.11"
  }
 },
 "nbformat": 4,
 "nbformat_minor": 4
}
