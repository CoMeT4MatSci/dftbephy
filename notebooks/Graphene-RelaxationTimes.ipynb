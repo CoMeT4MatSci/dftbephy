{
 "cells": [
  {
   "cell_type": "code",
   "execution_count": 24,
   "metadata": {},
   "outputs": [],
   "source": [
    "import os\n",
    "\n",
    "import numpy as np\n",
    "import matplotlib.pyplot as plt\n",
    "\n",
    "import h5py"
   ]
  },
  {
   "cell_type": "code",
   "execution_count": 25,
   "metadata": {},
   "outputs": [],
   "source": [
    "basedir='../examples/Graphene'"
   ]
  },
  {
   "cell_type": "markdown",
   "metadata": {},
   "source": [
    "# Relaxation Times"
   ]
  },
  {
   "cell_type": "code",
   "execution_count": 31,
   "metadata": {},
   "outputs": [],
   "source": [
    "eV = 1.\n",
    "Second = 1.\n",
    "hbar = 6.582119569e-16 * eV * Second\n",
    "\n",
    "datafn = basedir+'/el-ph/relaxation-times-fine.hdf5'\n",
    "\n",
    "with h5py.File(datafn, 'r') as f:\n",
    "    sysname = f['struct'].attrs['name']\n",
    "\n",
    "    rates = (f['el-ph']['linewidths'][()] * eV) / hbar\n",
    "    kBTs = f['el-ph']['linewidths'].attrs['kBTs'] * eV\n",
    "    mus = f['el-ph']['linewidths'].attrs['mus'] * eV\n",
    "    kpoints = f['el']['k-points'][()]\n",
    "    epsk = f['el']['eps_kn'][()]* eV\n",
    "    EF = f['el']['eps_kn'].attrs['EF']* eV"
   ]
  },
  {
   "cell_type": "code",
   "execution_count": 32,
   "metadata": {},
   "outputs": [
    {
     "data": {
      "text/plain": [
       "-4.659554864918492"
      ]
     },
     "execution_count": 32,
     "metadata": {},
     "output_type": "execute_result"
    }
   ],
   "source": [
    "EF"
   ]
  },
  {
   "cell_type": "code",
   "execution_count": 33,
   "metadata": {},
   "outputs": [
    {
     "data": {
      "text/plain": [
       "0.1000020981856986"
      ]
     },
     "execution_count": 33,
     "metadata": {},
     "output_type": "execute_result"
    }
   ],
   "source": [
    "mus[0]-EF"
   ]
  },
  {
   "cell_type": "code",
   "execution_count": 34,
   "metadata": {},
   "outputs": [
    {
     "data": {
      "text/plain": [
       "0.0259"
      ]
     },
     "execution_count": 34,
     "metadata": {},
     "output_type": "execute_result"
    }
   ],
   "source": [
    "kBTs[0]"
   ]
  },
  {
   "cell_type": "code",
   "execution_count": 35,
   "metadata": {},
   "outputs": [
    {
     "data": {
      "image/png": "[encoded data removed]",
      "text/plain": [
       "<Figure size 396x360 with 1 Axes>"
      ]
     },
     "metadata": {
      "needs_background": "light"
     },
     "output_type": "display_data"
    }
   ],
   "source": [
    "fig = plt.figure(figsize=(5.5,5))\n",
    "ax1 = fig.add_subplot(1, 1, 1)\n",
    "\n",
    "ax1.scatter(epsk[:,4]-EF, rates[0, :, 4, 0], label='inverse life-time, TA')\n",
    "ax1.scatter(epsk[:,4]-EF, rates[0, :, 4, 1], label='inverse life-time, LA')\n",
    "ax1.scatter(epsk[:,4]-EF, rates[0, :, 4, 0]+rates[0, :, 4, 1], label='inverse life-time, TA+LA', marker='+')\n",
    "ax1.scatter(epsk[:,4]-EF, rates.sum(axis=3)[0, :, 4], label='inverse life-time, all')\n",
    "\n",
    "ax1.axvline(x=mus[0]-EF, label=r'$\\mu-E_c=%3.1f$ [eV]'%(mus[0]-EF), color='black')\n",
    "\n",
    "plt.legend()\n",
    "plt.xlim((0,0.4))\n",
    "plt.ylim((0,0.5e13))\n",
    "plt.xlabel(r'$\\epsilon_k - E_c$ [eV]', fontsize=14)\n",
    "plt.ylabel(r'$\\Gamma_k$ [1/s]', fontsize=14)\n",
    "plt.tight_layout()\n",
    "plt.show()\n",
    "#plt.savefig(basedir+'/el-ph/graphene-dftb-lifetimes.pdf')"
   ]
  },
  {
   "cell_type": "code",
   "execution_count": null,
   "metadata": {},
   "outputs": [],
   "source": []
  }
 ],
 "metadata": {
  "kernelspec": {
   "display_name": "Python 3",
   "language": "python",
   "name": "python3"
  },
  "language_info": {
   "codemirror_mode": {
    "name": "ipython",
    "version": 3
   },
   "file_extension": ".py",
   "mimetype": "text/x-python",
   "name": "python",
   "nbconvert_exporter": "python",
   "pygments_lexer": "ipython3",
   "version": "3.7.11"
  }
 },
 "nbformat": 4,
 "nbformat_minor": 4
}
